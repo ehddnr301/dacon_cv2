{
  "nbformat": 4,
  "nbformat_minor": 0,
  "metadata": {
    "colab": {
      "name": "dacon_cv2.ipynb",
      "provenance": [],
      "authorship_tag": "ABX9TyNok5volV/Ghg8j8oCF5+eK",
      "include_colab_link": true
    },
    "kernelspec": {
      "name": "python3",
      "display_name": "Python 3"
    }
  },
  "cells": [
    {
      "cell_type": "markdown",
      "metadata": {
        "id": "view-in-github",
        "colab_type": "text"
      },
      "source": [
        "<a href=\"https://colab.research.google.com/github/ehddnr301/dacon_cv2/blob/master/dacon_cv2.ipynb\" target=\"_parent\"><img src=\"https://colab.research.google.com/assets/colab-badge.svg\" alt=\"Open In Colab\"/></a>"
      ]
    },
    {
      "cell_type": "code",
      "metadata": {
        "id": "_VDESqenYsoN"
      },
      "source": [
        "from google.colab import drive\n",
        "drive.mount('/content/drive')"
      ],
      "execution_count": null,
      "outputs": []
    },
    {
      "cell_type": "code",
      "metadata": {
        "id": "cjnRReL9YvQe"
      },
      "source": [
        "import os\n",
        "\n",
        "os.listdir('/content/drive/MyDrive/dacon_computer_vision/')"
      ],
      "execution_count": null,
      "outputs": []
    },
    {
      "cell_type": "code",
      "metadata": {
        "id": "Qm4bLzHFYvTb"
      },
      "source": [
        "# colab 에서 자꾸 unzip한 이미지중에 일부가 없어져서 -n modifier를 주고 계속 실행하려함.\n",
        "!unzip -n '/content/drive/MyDrive/dacon_computer_vision/data/dirty_mnist_2nd.zip' -d '/content/drive/MyDrive/dacon_computer_vision/data/dirty_mnist'"
      ],
      "execution_count": null,
      "outputs": []
    },
    {
      "cell_type": "code",
      "metadata": {
        "id": "GrdxLfaRYvV8"
      },
      "source": [
        "!pip install torchinfo"
      ],
      "execution_count": null,
      "outputs": []
    },
    {
      "cell_type": "code",
      "metadata": {
        "id": "6q1GOlSaYvYr"
      },
      "source": [
        "!pip install efficientnet_pytorch"
      ],
      "execution_count": null,
      "outputs": []
    },
    {
      "cell_type": "code",
      "metadata": {
        "id": "LzeEkYJMYvbr"
      },
      "source": [
        "from efficientnet_pytorch import EfficientNet\n",
        "\n",
        "import pandas as pd\n",
        "import numpy as np\n",
        "import matplotlib.pyplot as plt\n",
        "import cv2\n",
        "from tqdm import tqdm\n",
        "import imutils\n",
        "import zipfile\n",
        "import os\n",
        "from PIL import Image\n",
        "\n",
        "import torch\n",
        "import torch.nn as nn\n",
        "import torch.nn.functional as F\n",
        "import torchvision.models as models\n",
        "import torchvision.transforms as T\n",
        "from torch.utils.data import DataLoader, Dataset\n",
        "from google.colab import output\n",
        "\n",
        "device = torch.device(\"cuda:0\" if torch.cuda.is_available() else \"cpu\") # 디바이스 설정"
      ],
      "execution_count": null,
      "outputs": []
    },
    {
      "cell_type": "code",
      "metadata": {
        "id": "WMJGTrxhYvee"
      },
      "source": [
        "# random seed\n",
        "random_seed = 121\n",
        "torch.manual_seed(random_seed)\n",
        "torch.cuda.manual_seed(random_seed)\n",
        "torch.cuda.manual_seed_all(random_seed) # if use multi-GPU\n",
        "torch.backends.cudnn.deterministic = True\n",
        "torch.backends.cudnn.benchmark = False\n",
        "np.random.seed(random_seed)\n",
        "random.seed(random_seed)\n",
        "\n",
        "\n",
        "IMAGE_WIDTH=256\n",
        "IMAGE_HEIGHT=256\n",
        "IMAGE_SIZE=(IMAGE_WIDTH, IMAGE_HEIGHT)\n",
        "IMAGE_CHANNELS=3\n",
        "EPOCHS=30\n",
        "\n",
        "PATH_TRAIN_DATASET='/content/drive/MyDrive/dacon_computer_vision/data/dirty_mnist/'\n",
        "PATH_TEST_DATASET='/content/drive/MyDrive/dacon_computer_vision/data/test_dirty_mnist/'\n",
        "PATH_TRAIN_ANS_CSV='/content/drive/MyDrive/dacon_computer_vision/data/dirty_mnist_2nd_answer.csv'"
      ],
      "execution_count": null,
      "outputs": []
    },
    {
      "cell_type": "code",
      "metadata": {
        "id": "Is0ksfwYYvhF"
      },
      "source": [
        "dirty_mnist_answer = pd.read_csv(PATH_TRAIN_ANS_CSV)\n",
        "# dirty_mnist라는 디렉터리 속에 들어있는 파일들의 이름을 \n",
        "# namelist라는 변수에 저장\n",
        "namelist = os.listdir(PATH_TRAIN_DATASET)\n",
        "\n",
        "# unmpy를 tensor로 변환하는 ToTensor 정의\n",
        "class ToTensor(object):\n",
        "    \"\"\"numpy array를 tensor(torch)로 변환합니다.\"\"\"\n",
        "    def __call__(self, sample):\n",
        "        image, label = sample['image'], sample['label']\n",
        "        # swap color axis because\n",
        "        # numpy image: H x W x C\n",
        "        # torch image: C X H X W\n",
        "        image = image.transpose((2, 0, 1))\n",
        "        return {'image': torch.FloatTensor(image),\n",
        "                'label': torch.FloatTensor(label)}\n",
        "# to_tensor 선언\n",
        "to_tensor = T.Compose([\n",
        "                        transforms.RandomHorizontalFlip(p=0.5),\n",
        "                        transforms.RandomVerticalFlip(p=0.5),\n",
        "                        transforms.RandomRotation(degrees=(180, 180)),\n",
        "                        transforms.RandomAffine(20),\n",
        "                        transforms.RandomGrayscale(p=0.1),\n",
        "                        transforms.ToTensor(),\n",
        "                        transforms.Normalize(\n",
        "                            [0.485, 0.456, 0.406],\n",
        "                            [0.229, 0.224, 0.225]\n",
        "                        )\n",
        "                    ])\n",
        "\n",
        "to_tensor_test = T.Compose([\n",
        "                        ToTensor(),\n",
        "                        transforms.Normalize(\n",
        "                            [0.485, 0.456, 0.406],\n",
        "                            [0.229, 0.224, 0.225]\n",
        "                        )\n",
        "                    ])\n",
        "\n",
        "class DatasetMNIST(torch.utils.data.Dataset):\n",
        "    def __init__(self,\n",
        "                 dir_path,\n",
        "                 meta_df,\n",
        "                 transforms=to_tensor,#미리 선언한 to_tensor를 transforms로 받음\n",
        "                 augmentations=None):\n",
        "        \n",
        "        self.dir_path = dir_path # 데이터의 이미지가 저장된 디렉터리 경로\n",
        "        self.meta_df = meta_df # 데이터의 인덱스와 정답지가 들어있는 DataFrame\n",
        "\n",
        "        self.transforms = transforms# Transform\n",
        "        self.augmentations = augmentations # Augmentation\n",
        "        \n",
        "    def __len__(self):\n",
        "        return len(self.meta_df)\n",
        "    \n",
        "    def __getitem__(self, index):\n",
        "        # 폴더 경로 + 이미지 이름 + .png => 파일의 경로\n",
        "        # 참고) \"12\".zfill(5) => 000012\n",
        "        #       \"146\".zfill(5) => 000145\n",
        "        # cv2.IMREAD_GRAYSCALE : png파일을 채널이 1개인 GRAYSCALE로 읽음\n",
        "        image = cv2.imread(self.dir_path +\\\n",
        "                           str(self.meta_df.iloc[index,0]).zfill(5) + '.png',\n",
        "                           cv2.IMREAD_GRAYSCALE)\n",
        "        # 0 ~ 255의 값을 갖고 크기가 (256,256)인 numpy array를\n",
        "        # 0 ~ 1 사이의 실수를 갖고 크기가 (256,256,1)인 numpy array로 변환\n",
        "        image = (image/255).astype('float')[..., np.newaxis]\n",
        "\n",
        "        # 정답 numpy array생성(존재하면 1 없으면 0)\n",
        "        label = self.meta_df.iloc[index, 1:].values.astype('float')\n",
        "        sample = {'image': image, 'label': label}\n",
        "\n",
        "        # transform 적용\n",
        "        # numpy to tensor\n",
        "        if self.transforms:\n",
        "            sample = self.transforms(sample)\n",
        "\n",
        "        # sample 반환\n",
        "        return sample"
      ],
      "execution_count": null,
      "outputs": []
    },
    {
      "cell_type": "code",
      "metadata": {
        "id": "86QDFArcYvj8"
      },
      "source": [
        "class MnistModel(nn.Module):\n",
        "    def __init__(self) -> None:\n",
        "        super().__init__()\n",
        "        self.effnet = EfficientNet.from_pretrained('efficientnet-b5')\n",
        "        self.classifier = nn.Linear(1000, 26)\n",
        "\n",
        "    def forward(self, x):\n",
        "        x = self.effnet(x)\n",
        "        x = self.classifier(x)\n",
        "\n",
        "        return x\n",
        "\n",
        "device = torch.device('cuda' if torch.cuda.is_available() else 'cpu')\n",
        "model = MnistModel().to(device)\n",
        "print(summary(model, input_size=(1, 3, 256, 256), verbose=0))"
      ],
      "execution_count": null,
      "outputs": []
    },
    {
      "cell_type": "code",
      "metadata": {
        "id": "BqJJnhchYvm5"
      },
      "source": [
        "# cross validation을 적용하기 위해 KFold 생성\n",
        "from sklearn.model_selection import KFold\n",
        "kfold = KFold(n_splits=5, shuffle=True, random_state=0)\n",
        "\n",
        "# dirty_mnist_answer에서 train_idx와 val_idx를 생성\n",
        "best_models = [] # 폴드별로 가장 validation acc가 높은 모델 저장\n",
        "for fold_index, (trn_idx, val_idx) in enumerate(kfold.split(dirty_mnist_answer),1):\n",
        "    print(f'[fold: {fold_index}]')\n",
        "    # cuda cache 초기화\n",
        "    torch.cuda.empty_cache()\n",
        "\n",
        "    #train fold, validation fold 분할\n",
        "    train_answer = dirty_mnist_answer.iloc[trn_idx]\n",
        "    val_answer  = dirty_mnist_answer.iloc[val_idx]\n",
        "\n",
        "    #Dataset 정의\n",
        "    train_dataset = DatasetMNIST(PATH_TRAIN_DATASET, train_answer)\n",
        "    valid_dataset = DatasetMNIST(PATH_TRAIN_DATASET, val_answer)\n",
        "\n",
        "    #DataLoader 정의\n",
        "    train_data_loader = DataLoader(\n",
        "        train_dataset,\n",
        "        batch_size = 32,\n",
        "        shuffle = False,\n",
        "    )\n",
        "    valid_data_loader = DataLoader(\n",
        "        valid_dataset,\n",
        "        batch_size = 32,\n",
        "        shuffle = False,\n",
        "    )\n",
        "\n",
        "    # 모델 선언\n",
        "    model = MnistModel()\n",
        "    model.to(device)# gpu에 모델 할당\n",
        "\n",
        "    # 훈련 옵션 설정\n",
        "    optimizer = torch.optim.AdamW(model.parameters(), lr = 0.001)\n",
        "    lr_scheduler = torch.optim.lr_scheduler.StepLR(optimizer,\n",
        "                                                step_size = 5,\n",
        "                                                gamma = 0.75)\n",
        "    criterion = torch.nn.MultiLabelSoftMarginLoss()\n",
        "\n",
        "    # 훈련 시작\n",
        "    valid_acc_max = 0\n",
        "    for epoch in range(EPOCHS):\n",
        "        # 1개 epoch 훈련\n",
        "        train_acc_list = []\n",
        "        with tqdm(train_data_loader,#train_data_loader를 iterative하게 반환\n",
        "                total=train_data_loader.__len__(), # train_data_loader의 크기\n",
        "                unit=\"batch\") as train_bar:# 한번 반환하는 smaple의 단위는 \"batch\"\n",
        "            for sample in train_bar:\n",
        "                train_bar.set_description(f\"Train Epoch {epoch}\")\n",
        "                # 갱신할 변수들에 대한 모든 변화도를 0으로 초기화\n",
        "                # 참고)https://tutorials.pytorch.kr/beginner/pytorch_with_examples.html\n",
        "                optimizer.zero_grad()\n",
        "                images, labels = sample['image'], sample['label']\n",
        "                # tensor를 gpu에 올리기 \n",
        "                images = images.to(device)\n",
        "                labels = labels.to(device)\n",
        "\n",
        "                # 모델의 dropoupt, batchnormalization를 train 모드로 설정\n",
        "                model.train()\n",
        "                # .forward()에서 중간 노드의 gradient를 계산\n",
        "                with torch.set_grad_enabled(True):\n",
        "                    # 모델 예측\n",
        "                    probs  = model(images)\n",
        "                    # loss 계산\n",
        "                    loss = criterion(probs, labels)\n",
        "                    # 중간 노드의 gradient로\n",
        "                    # backpropagation을 적용하여\n",
        "                    # gradient 계산\n",
        "                    loss.backward()\n",
        "                    # weight 갱신\n",
        "                    optimizer.step()\n",
        "\n",
        "                    # train accuracy 계산\n",
        "                    probs  = probs.cpu().detach().numpy()\n",
        "                    labels = labels.cpu().detach().numpy()\n",
        "                    preds = probs > 0.5\n",
        "                    batch_acc = (labels == preds).mean()\n",
        "                    train_acc_list.append(batch_acc)\n",
        "                    train_acc = np.mean(train_acc_list)\n",
        "\n",
        "                # 현재 progress bar에 현재 미니배치의 loss 결과 출력\n",
        "                train_bar.set_postfix(train_loss= loss.item(),\n",
        "                                      train_acc = train_acc)\n",
        "                \n",
        "\n",
        "        # 1개 epoch학습 후 Validation 점수 계산\n",
        "        valid_acc_list = []\n",
        "        with tqdm(valid_data_loader,\n",
        "                total=valid_data_loader.__len__(),\n",
        "                unit=\"batch\") as valid_bar:\n",
        "            for sample in valid_bar:\n",
        "                valid_bar.set_description(f\"Valid Epoch {epoch}\")\n",
        "                optimizer.zero_grad()\n",
        "                images, labels = sample['image'], sample['label']\n",
        "                images = images.to(device)\n",
        "                labels = labels.to(device)\n",
        "\n",
        "                # 모델의 dropoupt, batchnormalization를 eval모드로 설정\n",
        "                model.eval()\n",
        "                # .forward()에서 중간 노드의 gradient를 계산\n",
        "                with torch.no_grad():\n",
        "                    # validation loss만을 계산\n",
        "                    probs  = model(images)\n",
        "                    valid_loss = criterion(probs, labels)\n",
        "\n",
        "                    # train accuracy 계산\n",
        "                    probs  = probs.cpu().detach().numpy()\n",
        "                    labels = labels.cpu().detach().numpy()\n",
        "                    preds = probs > 0.5\n",
        "                    batch_acc = (labels == preds).mean()\n",
        "                    valid_acc_list.append(batch_acc)\n",
        "\n",
        "                valid_acc = np.mean(valid_acc_list)\n",
        "                valid_bar.set_postfix(valid_loss = valid_loss.item(),\n",
        "                                      valid_acc = valid_acc)\n",
        "            \n",
        "        # Learning rate 조절\n",
        "        lr_scheduler.step()\n",
        "\n",
        "        # 모델 저장\n",
        "        if valid_acc_max < valid_acc:\n",
        "            valid_acc_max = valid_acc\n",
        "            best_model = model\n",
        "            MODEL = \"efficientnet-b5\"\n",
        "            # 모델을 저장할 구글 드라이브 경로\n",
        "            path = \"/content/drive/MyDrive/dacon_computer_vision/model/\"\n",
        "            torch.save(best_model, f'{path}{fold_index}_{MODEL}_{valid_loss.item():2.4f}_epoch_{epoch}.pth')\n",
        "\n",
        "    # 폴드별로 가장 좋은 모델 저장\n",
        "    best_models.append(best_model)"
      ],
      "execution_count": null,
      "outputs": []
    },
    {
      "cell_type": "code",
      "metadata": {
        "id": "BLXNl97LYvpw"
      },
      "source": [
        "# gpu에 올라가 있는 tensor -> cpu로 이동 -> numpy array로 변환\n",
        "sample_images = images.cpu().detach().numpy()\n",
        "sample_prob = probs\n",
        "sample_labels = labels\n",
        "\n",
        "idx = 1\n",
        "plt.imshow(sample_images[idx][0])\n",
        "plt.title(\"sample input image\")\n",
        "plt.show()\n",
        "\n",
        "print('예측값 : ',dirty_mnist_answer.columns[1:][sample_prob[idx] > 0.5])\n",
        "print('정답값 : ', dirty_mnist_answer.columns[1:][sample_labels[idx] > 0.5])"
      ],
      "execution_count": null,
      "outputs": []
    },
    {
      "cell_type": "code",
      "metadata": {
        "id": "0RIUh0GXYvsa"
      },
      "source": [
        "#test Dataset 정의\n",
        "sample_submission = pd.read_csv(\"/content/drive/MyDrive/dacon_computer_vision/data/sample_submission.csv\")\n",
        "test_dataset = DatasetMNIST(\"test_dirty_mnist/\", sample_submission,transforms=to_tensor_test)\n",
        "batch_size = 16\n",
        "test_data_loader = DataLoader(\n",
        "    test_dataset,\n",
        "    batch_size = batch_size,\n",
        "    shuffle = False,\n",
        "    drop_last = False\n",
        ")"
      ],
      "execution_count": null,
      "outputs": []
    },
    {
      "cell_type": "code",
      "metadata": {
        "id": "fmNvOS8cYvvy"
      },
      "source": [
        "predictions_list = []\n",
        "# 배치 단위로 추론\n",
        "prediction_df = pd.read_csv(\"/content/drive/MyDrive/dacon_computer_vision/data/sample_submission.csv\")\n",
        "\n",
        "# 5개의 fold마다 가장 좋은 모델을 이용하여 예측\n",
        "for model in best_models:\n",
        "    # 0으로 채워진 array 생성\n",
        "    prediction_array = np.zeros([prediction_df.shape[0],\n",
        "                                 prediction_df.shape[1] -1])\n",
        "    for idx, sample in enumerate(test_data_loader):\n",
        "        with torch.no_grad():\n",
        "            # 추론\n",
        "            model.eval()\n",
        "            images = sample['image']\n",
        "            images = images.to(device)\n",
        "            probs  = model(images)\n",
        "            probs = probs.cpu().detach().numpy()\n",
        "            preds = (probs > 0.5)\n",
        "\n",
        "            # 예측 결과를 \n",
        "            # prediction_array에 입력\n",
        "            batch_index = batch_size * idx\n",
        "            prediction_array[batch_index: batch_index + images.shape[0],:]\\\n",
        "                         = preds.astype(int)\n",
        "                         \n",
        "    # 채널을 하나 추가하여 list에 append\n",
        "    predictions_list.append(prediction_array[...,np.newaxis])"
      ],
      "execution_count": null,
      "outputs": []
    },
    {
      "cell_type": "code",
      "metadata": {
        "id": "ow1f-pP2Yvym"
      },
      "source": [
        "# axis = 2를 기준으로 평균\n",
        "predictions_array = np.concatenate(predictions_list, axis = 2)\n",
        "predictions_mean = predictions_array.mean(axis = 2)\n",
        "\n",
        "# 평균 값이 0.5보다 클 경우 1 작으면 0\n",
        "predictions_mean = (predictions_mean > 0.5) * 1\n",
        "predictions_mean"
      ],
      "execution_count": null,
      "outputs": []
    },
    {
      "cell_type": "code",
      "metadata": {
        "id": "SKCpYI7CYv1c"
      },
      "source": [
        "sample_submission = pd.read_csv(\"/content/drive/MyDrive/dacon_computer_vision/data/sample_submission.csv\")\n",
        "sample_submission.iloc[:,1:] = predictions_mean\n",
        "sample_submission.to_csv(\"/content/drive/MyDrive/dacon_computer_vision/data/kfold_submit.csv\", index = False)\n",
        "sample_submission"
      ],
      "execution_count": null,
      "outputs": []
    }
  ]
}