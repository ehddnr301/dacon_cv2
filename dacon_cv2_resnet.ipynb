{
  "nbformat": 4,
  "nbformat_minor": 0,
  "metadata": {
    "colab": {
      "name": "dacon_cv2_resnet.ipynb",
      "provenance": [],
      "collapsed_sections": [],
      "machine_shape": "hm",
      "authorship_tag": "ABX9TyMHiTmuZIYF9qATX8K4R+Ip",
      "include_colab_link": true
    },
    "kernelspec": {
      "name": "python3",
      "display_name": "Python 3"
    },
    "accelerator": "GPU",
    "widgets": {
      "application/vnd.jupyter.widget-state+json": {
        "fa322d76974e4a0f9a6fe052fc9a6b07": {
          "model_module": "@jupyter-widgets/controls",
          "model_name": "HBoxModel",
          "state": {
            "_view_name": "HBoxView",
            "_dom_classes": [],
            "_model_name": "HBoxModel",
            "_view_module": "@jupyter-widgets/controls",
            "_model_module_version": "1.5.0",
            "_view_count": null,
            "_view_module_version": "1.5.0",
            "box_style": "",
            "layout": "IPY_MODEL_fbf639e15dd04648b067605ee9e80e02",
            "_model_module": "@jupyter-widgets/controls",
            "children": [
              "IPY_MODEL_eecb0b9f79b94e97aa349d08bcf0b788",
              "IPY_MODEL_0a73dda7c9944b52b5ecb7fe8e4e0856"
            ]
          }
        },
        "fbf639e15dd04648b067605ee9e80e02": {
          "model_module": "@jupyter-widgets/base",
          "model_name": "LayoutModel",
          "state": {
            "_view_name": "LayoutView",
            "grid_template_rows": null,
            "right": null,
            "justify_content": null,
            "_view_module": "@jupyter-widgets/base",
            "overflow": null,
            "_model_module_version": "1.2.0",
            "_view_count": null,
            "flex_flow": null,
            "width": null,
            "min_width": null,
            "border": null,
            "align_items": null,
            "bottom": null,
            "_model_module": "@jupyter-widgets/base",
            "top": null,
            "grid_column": null,
            "overflow_y": null,
            "overflow_x": null,
            "grid_auto_flow": null,
            "grid_area": null,
            "grid_template_columns": null,
            "flex": null,
            "_model_name": "LayoutModel",
            "justify_items": null,
            "grid_row": null,
            "max_height": null,
            "align_content": null,
            "visibility": null,
            "align_self": null,
            "height": null,
            "min_height": null,
            "padding": null,
            "grid_auto_rows": null,
            "grid_gap": null,
            "max_width": null,
            "order": null,
            "_view_module_version": "1.2.0",
            "grid_template_areas": null,
            "object_position": null,
            "object_fit": null,
            "grid_auto_columns": null,
            "margin": null,
            "display": null,
            "left": null
          }
        },
        "eecb0b9f79b94e97aa349d08bcf0b788": {
          "model_module": "@jupyter-widgets/controls",
          "model_name": "FloatProgressModel",
          "state": {
            "_view_name": "ProgressView",
            "style": "IPY_MODEL_1ce74a3058434cbead47de3af5099b81",
            "_dom_classes": [],
            "description": "100%",
            "_model_name": "FloatProgressModel",
            "bar_style": "success",
            "max": 102502400,
            "_view_module": "@jupyter-widgets/controls",
            "_model_module_version": "1.5.0",
            "value": 102502400,
            "_view_count": null,
            "_view_module_version": "1.5.0",
            "orientation": "horizontal",
            "min": 0,
            "description_tooltip": null,
            "_model_module": "@jupyter-widgets/controls",
            "layout": "IPY_MODEL_0f5ebcdee5d94c03a038a2b11c67d716"
          }
        },
        "0a73dda7c9944b52b5ecb7fe8e4e0856": {
          "model_module": "@jupyter-widgets/controls",
          "model_name": "HTMLModel",
          "state": {
            "_view_name": "HTMLView",
            "style": "IPY_MODEL_b898a5e29ae54c9eb907e267bc2bfcce",
            "_dom_classes": [],
            "description": "",
            "_model_name": "HTMLModel",
            "placeholder": "​",
            "_view_module": "@jupyter-widgets/controls",
            "_model_module_version": "1.5.0",
            "value": " 97.8M/97.8M [00:39&lt;00:00, 2.62MB/s]",
            "_view_count": null,
            "_view_module_version": "1.5.0",
            "description_tooltip": null,
            "_model_module": "@jupyter-widgets/controls",
            "layout": "IPY_MODEL_e4c7495fa2da4098bf9c2286dabbcc9f"
          }
        },
        "1ce74a3058434cbead47de3af5099b81": {
          "model_module": "@jupyter-widgets/controls",
          "model_name": "ProgressStyleModel",
          "state": {
            "_view_name": "StyleView",
            "_model_name": "ProgressStyleModel",
            "description_width": "initial",
            "_view_module": "@jupyter-widgets/base",
            "_model_module_version": "1.5.0",
            "_view_count": null,
            "_view_module_version": "1.2.0",
            "bar_color": null,
            "_model_module": "@jupyter-widgets/controls"
          }
        },
        "0f5ebcdee5d94c03a038a2b11c67d716": {
          "model_module": "@jupyter-widgets/base",
          "model_name": "LayoutModel",
          "state": {
            "_view_name": "LayoutView",
            "grid_template_rows": null,
            "right": null,
            "justify_content": null,
            "_view_module": "@jupyter-widgets/base",
            "overflow": null,
            "_model_module_version": "1.2.0",
            "_view_count": null,
            "flex_flow": null,
            "width": null,
            "min_width": null,
            "border": null,
            "align_items": null,
            "bottom": null,
            "_model_module": "@jupyter-widgets/base",
            "top": null,
            "grid_column": null,
            "overflow_y": null,
            "overflow_x": null,
            "grid_auto_flow": null,
            "grid_area": null,
            "grid_template_columns": null,
            "flex": null,
            "_model_name": "LayoutModel",
            "justify_items": null,
            "grid_row": null,
            "max_height": null,
            "align_content": null,
            "visibility": null,
            "align_self": null,
            "height": null,
            "min_height": null,
            "padding": null,
            "grid_auto_rows": null,
            "grid_gap": null,
            "max_width": null,
            "order": null,
            "_view_module_version": "1.2.0",
            "grid_template_areas": null,
            "object_position": null,
            "object_fit": null,
            "grid_auto_columns": null,
            "margin": null,
            "display": null,
            "left": null
          }
        },
        "b898a5e29ae54c9eb907e267bc2bfcce": {
          "model_module": "@jupyter-widgets/controls",
          "model_name": "DescriptionStyleModel",
          "state": {
            "_view_name": "StyleView",
            "_model_name": "DescriptionStyleModel",
            "description_width": "",
            "_view_module": "@jupyter-widgets/base",
            "_model_module_version": "1.5.0",
            "_view_count": null,
            "_view_module_version": "1.2.0",
            "_model_module": "@jupyter-widgets/controls"
          }
        },
        "e4c7495fa2da4098bf9c2286dabbcc9f": {
          "model_module": "@jupyter-widgets/base",
          "model_name": "LayoutModel",
          "state": {
            "_view_name": "LayoutView",
            "grid_template_rows": null,
            "right": null,
            "justify_content": null,
            "_view_module": "@jupyter-widgets/base",
            "overflow": null,
            "_model_module_version": "1.2.0",
            "_view_count": null,
            "flex_flow": null,
            "width": null,
            "min_width": null,
            "border": null,
            "align_items": null,
            "bottom": null,
            "_model_module": "@jupyter-widgets/base",
            "top": null,
            "grid_column": null,
            "overflow_y": null,
            "overflow_x": null,
            "grid_auto_flow": null,
            "grid_area": null,
            "grid_template_columns": null,
            "flex": null,
            "_model_name": "LayoutModel",
            "justify_items": null,
            "grid_row": null,
            "max_height": null,
            "align_content": null,
            "visibility": null,
            "align_self": null,
            "height": null,
            "min_height": null,
            "padding": null,
            "grid_auto_rows": null,
            "grid_gap": null,
            "max_width": null,
            "order": null,
            "_view_module_version": "1.2.0",
            "grid_template_areas": null,
            "object_position": null,
            "object_fit": null,
            "grid_auto_columns": null,
            "margin": null,
            "display": null,
            "left": null
          }
        }
      }
    }
  },
  "cells": [
    {
      "cell_type": "markdown",
      "metadata": {
        "id": "view-in-github",
        "colab_type": "text"
      },
      "source": [
        "<a href=\"https://colab.research.google.com/github/ehddnr301/dacon_cv2/blob/master/dacon_cv2_resnet.ipynb\" target=\"_parent\"><img src=\"https://colab.research.google.com/assets/colab-badge.svg\" alt=\"Open In Colab\"/></a>"
      ]
    },
    {
      "cell_type": "code",
      "metadata": {
        "colab": {
          "base_uri": "https://localhost:8080/"
        },
        "id": "3RlYIZQfZTvB",
        "outputId": "2ca9d52d-091a-4e7f-cb61-90eb78c8ac91"
      },
      "source": [
        "from google.colab import drive\n",
        "drive.mount('/content/drive')"
      ],
      "execution_count": 1,
      "outputs": [
        {
          "output_type": "stream",
          "text": [
            "Mounted at /content/drive\n"
          ],
          "name": "stdout"
        }
      ]
    },
    {
      "cell_type": "code",
      "metadata": {
        "id": "2b0tLpv2giRJ"
      },
      "source": [
        ""
      ],
      "execution_count": null,
      "outputs": []
    },
    {
      "cell_type": "code",
      "metadata": {
        "id": "JwJU5IkLnZwB"
      },
      "source": [
        ""
      ],
      "execution_count": null,
      "outputs": []
    },
    {
      "cell_type": "code",
      "metadata": {
        "id": "RgOJ10TJuRH_"
      },
      "source": [
        ""
      ],
      "execution_count": null,
      "outputs": []
    },
    {
      "cell_type": "code",
      "metadata": {
        "id": "OJiw6LdU1Il6"
      },
      "source": [
        ""
      ],
      "execution_count": null,
      "outputs": []
    },
    {
      "cell_type": "code",
      "metadata": {
        "id": "UxLUogJD7__R"
      },
      "source": [
        ""
      ],
      "execution_count": null,
      "outputs": []
    },
    {
      "cell_type": "code",
      "metadata": {
        "id": "PfDs0ELnZq1E"
      },
      "source": [
        ""
      ],
      "execution_count": 1,
      "outputs": []
    },
    {
      "cell_type": "code",
      "metadata": {
        "colab": {
          "base_uri": "https://localhost:8080/"
        },
        "id": "RdzZBm_bZY_x",
        "outputId": "e1d62321-6dd3-489b-862e-5f688ff62500"
      },
      "source": [
        "!nvidia-smi"
      ],
      "execution_count": 2,
      "outputs": [
        {
          "output_type": "stream",
          "text": [
            "Fri Feb 19 08:39:20 2021       \n",
            "+-----------------------------------------------------------------------------+\n",
            "| NVIDIA-SMI 460.39       Driver Version: 460.32.03    CUDA Version: 11.2     |\n",
            "|-------------------------------+----------------------+----------------------+\n",
            "| GPU  Name        Persistence-M| Bus-Id        Disp.A | Volatile Uncorr. ECC |\n",
            "| Fan  Temp  Perf  Pwr:Usage/Cap|         Memory-Usage | GPU-Util  Compute M. |\n",
            "|                               |                      |               MIG M. |\n",
            "|===============================+======================+======================|\n",
            "|   0  Tesla P100-PCIE...  Off  | 00000000:00:04.0 Off |                    0 |\n",
            "| N/A   37C    P0    28W / 250W |      0MiB / 16280MiB |      0%      Default |\n",
            "|                               |                      |                  N/A |\n",
            "+-------------------------------+----------------------+----------------------+\n",
            "                                                                               \n",
            "+-----------------------------------------------------------------------------+\n",
            "| Processes:                                                                  |\n",
            "|  GPU   GI   CI        PID   Type   Process name                  GPU Memory |\n",
            "|        ID   ID                                                   Usage      |\n",
            "|=============================================================================|\n",
            "|  No running processes found                                                 |\n",
            "+-----------------------------------------------------------------------------+\n"
          ],
          "name": "stdout"
        }
      ]
    },
    {
      "cell_type": "code",
      "metadata": {
        "id": "uzd7iQNyHRrQ"
      },
      "source": [
        ""
      ],
      "execution_count": 2,
      "outputs": []
    },
    {
      "cell_type": "code",
      "metadata": {
        "id": "3IFEKlIOOJIb"
      },
      "source": [
        ""
      ],
      "execution_count": 2,
      "outputs": []
    },
    {
      "cell_type": "code",
      "metadata": {
        "id": "9pidu5vDVAg4"
      },
      "source": [
        ""
      ],
      "execution_count": 2,
      "outputs": []
    },
    {
      "cell_type": "code",
      "metadata": {
        "colab": {
          "base_uri": "https://localhost:8080/"
        },
        "id": "eMngqCF4ZZB1",
        "outputId": "e1492c46-042b-493d-f5d3-dd0bf47a2489"
      },
      "source": [
        "import os\n",
        "\n",
        "os.listdir('/content/drive/MyDrive/dacon_computer_vision/')"
      ],
      "execution_count": 3,
      "outputs": [
        {
          "output_type": "execute_result",
          "data": {
            "text/plain": [
              "['data',\n",
              " 'Untitled1.ipynb',\n",
              " 'model.h5',\n",
              " 'eff_model.pt',\n",
              " 'eff_model1.pt',\n",
              " 'dacon-vision2.ipynb',\n",
              " 'Untitled0.ipynb',\n",
              " 'checkpoint',\n",
              " 'dacon_cv.zip',\n",
              " 'eff_model_cv2.pt',\n",
              " 'Untitled3.ipynb',\n",
              " 'Untitled2.ipynb',\n",
              " 'dacon_cv2.ipynb',\n",
              " 'eff_model_0214.pt',\n",
              " 'dacon_computervision2.ipynb',\n",
              " 'resnet_model_0218.pt',\n",
              " 'dacon_cv2_resnet.ipynb']"
            ]
          },
          "metadata": {
            "tags": []
          },
          "execution_count": 3
        }
      ]
    },
    {
      "cell_type": "code",
      "metadata": {
        "colab": {
          "base_uri": "https://localhost:8080/"
        },
        "id": "EB_0eX0CZZEQ",
        "outputId": "f935130b-9e11-4a17-a386-1faee49b3d1b"
      },
      "source": [
        "# colab 에서 자꾸 unzip한 이미지중에 일부가 없어져서 -n modifier를 주고 계속 실행하려함.\n",
        "!unzip -n '/content/drive/MyDrive/dacon_computer_vision/data/dirty_mnist_2nd.zip' -d '/content/drive/MyDrive/dacon_computer_vision/data/dirty_mnist'"
      ],
      "execution_count": 4,
      "outputs": [
        {
          "output_type": "stream",
          "text": [
            "Archive:  /content/drive/MyDrive/dacon_computer_vision/data/dirty_mnist_2nd.zip\n",
            "error:  cannot create /content/drive/MyDrive/dacon_computer_vision/data/dirty_mnist/00000.png\n",
            "        Input/output error\n"
          ],
          "name": "stdout"
        }
      ]
    },
    {
      "cell_type": "code",
      "metadata": {
        "colab": {
          "base_uri": "https://localhost:8080/"
        },
        "id": "trwZinRAZZGw",
        "outputId": "0caa2e1f-124e-450f-9d39-0130d134840a"
      },
      "source": [
        "!pip install torchinfo"
      ],
      "execution_count": 5,
      "outputs": [
        {
          "output_type": "stream",
          "text": [
            "Collecting torchinfo\n",
            "  Downloading https://files.pythonhosted.org/packages/d3/19/0613d4e4f1b39c84a98b6ef56d453b07f8888bd8524fce7e2463cfb62e5a/torchinfo-0.0.6-py3-none-any.whl\n",
            "Installing collected packages: torchinfo\n",
            "Successfully installed torchinfo-0.0.6\n"
          ],
          "name": "stdout"
        }
      ]
    },
    {
      "cell_type": "code",
      "metadata": {
        "id": "a1vPACcWZZJZ"
      },
      "source": [
        "import os\n",
        "from typing import Tuple, Sequence, Callable\n",
        "import csv\n",
        "import cv2\n",
        "import random\n",
        "import numpy as np\n",
        "import pandas as pd\n",
        "from PIL import Image\n",
        "from tqdm import tqdm\n",
        "import torch\n",
        "import torch.optim as optim\n",
        "from torch import nn, Tensor\n",
        "from torch.utils.data import Dataset, DataLoader, random_split\n",
        "from torchinfo import summary\n",
        "\n",
        "import albumentations\n",
        "\n",
        "\n",
        "from torchvision import transforms\n"
      ],
      "execution_count": 6,
      "outputs": []
    },
    {
      "cell_type": "code",
      "metadata": {
        "id": "jDP9o1A2ksQ8"
      },
      "source": [
        ""
      ],
      "execution_count": 6,
      "outputs": []
    },
    {
      "cell_type": "code",
      "metadata": {
        "id": "cpN2LqCAZZLv"
      },
      "source": [
        "# random seed\n",
        "random_seed = 777\n",
        "torch.manual_seed(random_seed)\n",
        "torch.cuda.manual_seed(random_seed)\n",
        "torch.cuda.manual_seed_all(random_seed) # if use multi-GPU\n",
        "torch.backends.cudnn.deterministic = True\n",
        "torch.backends.cudnn.benchmark = False\n",
        "np.random.seed(random_seed)\n",
        "random.seed(random_seed)\n",
        "\n",
        "\n",
        "IMAGE_WIDTH=256\n",
        "IMAGE_HEIGHT=256\n",
        "IMAGE_SIZE=(IMAGE_WIDTH, IMAGE_HEIGHT)\n",
        "IMAGE_CHANNELS=3\n",
        "EPOCHS=50\n",
        "\n",
        "PATH_TRAIN_DATASET='/content/drive/MyDrive/dacon_computer_vision/data/dirty_mnist/'\n",
        "PATH_TEST_DATASET='/content/drive/MyDrive/dacon_computer_vision/data/test_dirty_mnist/'\n",
        "PATH_TRAIN_ANS_CSV='/content/drive/MyDrive/dacon_computer_vision/data/dirty_mnist_2nd_answer.csv'"
      ],
      "execution_count": 7,
      "outputs": []
    },
    {
      "cell_type": "code",
      "metadata": {
        "colab": {
          "base_uri": "https://localhost:8080/",
          "height": 204
        },
        "id": "_tQERW2JZZOg",
        "outputId": "c18026e6-ec81-4f67-b317-8858f75b64d5"
      },
      "source": [
        "df = pd.read_csv(PATH_TRAIN_ANS_CSV)\n",
        "df.head()"
      ],
      "execution_count": 8,
      "outputs": [
        {
          "output_type": "execute_result",
          "data": {
            "text/html": [
              "<div>\n",
              "<style scoped>\n",
              "    .dataframe tbody tr th:only-of-type {\n",
              "        vertical-align: middle;\n",
              "    }\n",
              "\n",
              "    .dataframe tbody tr th {\n",
              "        vertical-align: top;\n",
              "    }\n",
              "\n",
              "    .dataframe thead th {\n",
              "        text-align: right;\n",
              "    }\n",
              "</style>\n",
              "<table border=\"1\" class=\"dataframe\">\n",
              "  <thead>\n",
              "    <tr style=\"text-align: right;\">\n",
              "      <th></th>\n",
              "      <th>index</th>\n",
              "      <th>a</th>\n",
              "      <th>b</th>\n",
              "      <th>c</th>\n",
              "      <th>d</th>\n",
              "      <th>e</th>\n",
              "      <th>f</th>\n",
              "      <th>g</th>\n",
              "      <th>h</th>\n",
              "      <th>i</th>\n",
              "      <th>j</th>\n",
              "      <th>k</th>\n",
              "      <th>l</th>\n",
              "      <th>m</th>\n",
              "      <th>n</th>\n",
              "      <th>o</th>\n",
              "      <th>p</th>\n",
              "      <th>q</th>\n",
              "      <th>r</th>\n",
              "      <th>s</th>\n",
              "      <th>t</th>\n",
              "      <th>u</th>\n",
              "      <th>v</th>\n",
              "      <th>w</th>\n",
              "      <th>x</th>\n",
              "      <th>y</th>\n",
              "      <th>z</th>\n",
              "    </tr>\n",
              "  </thead>\n",
              "  <tbody>\n",
              "    <tr>\n",
              "      <th>0</th>\n",
              "      <td>0</td>\n",
              "      <td>1</td>\n",
              "      <td>1</td>\n",
              "      <td>0</td>\n",
              "      <td>1</td>\n",
              "      <td>0</td>\n",
              "      <td>1</td>\n",
              "      <td>0</td>\n",
              "      <td>0</td>\n",
              "      <td>0</td>\n",
              "      <td>0</td>\n",
              "      <td>1</td>\n",
              "      <td>1</td>\n",
              "      <td>0</td>\n",
              "      <td>0</td>\n",
              "      <td>1</td>\n",
              "      <td>1</td>\n",
              "      <td>0</td>\n",
              "      <td>1</td>\n",
              "      <td>1</td>\n",
              "      <td>0</td>\n",
              "      <td>1</td>\n",
              "      <td>0</td>\n",
              "      <td>0</td>\n",
              "      <td>1</td>\n",
              "      <td>1</td>\n",
              "      <td>1</td>\n",
              "    </tr>\n",
              "    <tr>\n",
              "      <th>1</th>\n",
              "      <td>1</td>\n",
              "      <td>1</td>\n",
              "      <td>0</td>\n",
              "      <td>0</td>\n",
              "      <td>1</td>\n",
              "      <td>0</td>\n",
              "      <td>1</td>\n",
              "      <td>0</td>\n",
              "      <td>1</td>\n",
              "      <td>0</td>\n",
              "      <td>1</td>\n",
              "      <td>0</td>\n",
              "      <td>1</td>\n",
              "      <td>0</td>\n",
              "      <td>0</td>\n",
              "      <td>0</td>\n",
              "      <td>1</td>\n",
              "      <td>0</td>\n",
              "      <td>1</td>\n",
              "      <td>0</td>\n",
              "      <td>1</td>\n",
              "      <td>0</td>\n",
              "      <td>0</td>\n",
              "      <td>0</td>\n",
              "      <td>0</td>\n",
              "      <td>1</td>\n",
              "      <td>1</td>\n",
              "    </tr>\n",
              "    <tr>\n",
              "      <th>2</th>\n",
              "      <td>2</td>\n",
              "      <td>0</td>\n",
              "      <td>0</td>\n",
              "      <td>0</td>\n",
              "      <td>0</td>\n",
              "      <td>0</td>\n",
              "      <td>0</td>\n",
              "      <td>0</td>\n",
              "      <td>0</td>\n",
              "      <td>1</td>\n",
              "      <td>1</td>\n",
              "      <td>0</td>\n",
              "      <td>0</td>\n",
              "      <td>0</td>\n",
              "      <td>1</td>\n",
              "      <td>0</td>\n",
              "      <td>1</td>\n",
              "      <td>0</td>\n",
              "      <td>0</td>\n",
              "      <td>1</td>\n",
              "      <td>1</td>\n",
              "      <td>1</td>\n",
              "      <td>0</td>\n",
              "      <td>1</td>\n",
              "      <td>1</td>\n",
              "      <td>1</td>\n",
              "      <td>0</td>\n",
              "    </tr>\n",
              "    <tr>\n",
              "      <th>3</th>\n",
              "      <td>3</td>\n",
              "      <td>0</td>\n",
              "      <td>0</td>\n",
              "      <td>1</td>\n",
              "      <td>0</td>\n",
              "      <td>0</td>\n",
              "      <td>0</td>\n",
              "      <td>1</td>\n",
              "      <td>1</td>\n",
              "      <td>0</td>\n",
              "      <td>0</td>\n",
              "      <td>0</td>\n",
              "      <td>1</td>\n",
              "      <td>0</td>\n",
              "      <td>0</td>\n",
              "      <td>0</td>\n",
              "      <td>1</td>\n",
              "      <td>1</td>\n",
              "      <td>0</td>\n",
              "      <td>1</td>\n",
              "      <td>1</td>\n",
              "      <td>0</td>\n",
              "      <td>1</td>\n",
              "      <td>1</td>\n",
              "      <td>0</td>\n",
              "      <td>1</td>\n",
              "      <td>0</td>\n",
              "    </tr>\n",
              "    <tr>\n",
              "      <th>4</th>\n",
              "      <td>4</td>\n",
              "      <td>0</td>\n",
              "      <td>1</td>\n",
              "      <td>0</td>\n",
              "      <td>1</td>\n",
              "      <td>0</td>\n",
              "      <td>1</td>\n",
              "      <td>0</td>\n",
              "      <td>1</td>\n",
              "      <td>1</td>\n",
              "      <td>0</td>\n",
              "      <td>1</td>\n",
              "      <td>0</td>\n",
              "      <td>1</td>\n",
              "      <td>0</td>\n",
              "      <td>0</td>\n",
              "      <td>1</td>\n",
              "      <td>0</td>\n",
              "      <td>1</td>\n",
              "      <td>0</td>\n",
              "      <td>0</td>\n",
              "      <td>0</td>\n",
              "      <td>1</td>\n",
              "      <td>0</td>\n",
              "      <td>1</td>\n",
              "      <td>0</td>\n",
              "      <td>0</td>\n",
              "    </tr>\n",
              "  </tbody>\n",
              "</table>\n",
              "</div>"
            ],
            "text/plain": [
              "   index  a  b  c  d  e  f  g  h  i  j  k  ...  o  p  q  r  s  t  u  v  w  x  y  z\n",
              "0      0  1  1  0  1  0  1  0  0  0  0  1  ...  1  1  0  1  1  0  1  0  0  1  1  1\n",
              "1      1  1  0  0  1  0  1  0  1  0  1  0  ...  0  1  0  1  0  1  0  0  0  0  1  1\n",
              "2      2  0  0  0  0  0  0  0  0  1  1  0  ...  0  1  0  0  1  1  1  0  1  1  1  0\n",
              "3      3  0  0  1  0  0  0  1  1  0  0  0  ...  0  1  1  0  1  1  0  1  1  0  1  0\n",
              "4      4  0  1  0  1  0  1  0  1  1  0  1  ...  0  1  0  1  0  0  0  1  0  1  0  0\n",
              "\n",
              "[5 rows x 27 columns]"
            ]
          },
          "metadata": {
            "tags": []
          },
          "execution_count": 8
        }
      ]
    },
    {
      "cell_type": "code",
      "metadata": {
        "id": "x4lfSZbiZZQv"
      },
      "source": [
        "from sklearn.model_selection import train_test_split\n",
        "\n",
        "train, valid = train_test_split(df, test_size=0.05, random_state=random_seed)"
      ],
      "execution_count": 9,
      "outputs": []
    },
    {
      "cell_type": "code",
      "metadata": {
        "colab": {
          "base_uri": "https://localhost:8080/",
          "height": 204
        },
        "id": "9n1PM7r5ZZTb",
        "outputId": "51c78971-e827-44c2-dd52-ab395745844f"
      },
      "source": [
        "train.head()"
      ],
      "execution_count": 10,
      "outputs": [
        {
          "output_type": "execute_result",
          "data": {
            "text/html": [
              "<div>\n",
              "<style scoped>\n",
              "    .dataframe tbody tr th:only-of-type {\n",
              "        vertical-align: middle;\n",
              "    }\n",
              "\n",
              "    .dataframe tbody tr th {\n",
              "        vertical-align: top;\n",
              "    }\n",
              "\n",
              "    .dataframe thead th {\n",
              "        text-align: right;\n",
              "    }\n",
              "</style>\n",
              "<table border=\"1\" class=\"dataframe\">\n",
              "  <thead>\n",
              "    <tr style=\"text-align: right;\">\n",
              "      <th></th>\n",
              "      <th>index</th>\n",
              "      <th>a</th>\n",
              "      <th>b</th>\n",
              "      <th>c</th>\n",
              "      <th>d</th>\n",
              "      <th>e</th>\n",
              "      <th>f</th>\n",
              "      <th>g</th>\n",
              "      <th>h</th>\n",
              "      <th>i</th>\n",
              "      <th>j</th>\n",
              "      <th>k</th>\n",
              "      <th>l</th>\n",
              "      <th>m</th>\n",
              "      <th>n</th>\n",
              "      <th>o</th>\n",
              "      <th>p</th>\n",
              "      <th>q</th>\n",
              "      <th>r</th>\n",
              "      <th>s</th>\n",
              "      <th>t</th>\n",
              "      <th>u</th>\n",
              "      <th>v</th>\n",
              "      <th>w</th>\n",
              "      <th>x</th>\n",
              "      <th>y</th>\n",
              "      <th>z</th>\n",
              "    </tr>\n",
              "  </thead>\n",
              "  <tbody>\n",
              "    <tr>\n",
              "      <th>31245</th>\n",
              "      <td>31245</td>\n",
              "      <td>0</td>\n",
              "      <td>1</td>\n",
              "      <td>1</td>\n",
              "      <td>1</td>\n",
              "      <td>0</td>\n",
              "      <td>0</td>\n",
              "      <td>0</td>\n",
              "      <td>0</td>\n",
              "      <td>0</td>\n",
              "      <td>1</td>\n",
              "      <td>0</td>\n",
              "      <td>0</td>\n",
              "      <td>0</td>\n",
              "      <td>0</td>\n",
              "      <td>0</td>\n",
              "      <td>0</td>\n",
              "      <td>0</td>\n",
              "      <td>1</td>\n",
              "      <td>0</td>\n",
              "      <td>1</td>\n",
              "      <td>1</td>\n",
              "      <td>0</td>\n",
              "      <td>1</td>\n",
              "      <td>1</td>\n",
              "      <td>1</td>\n",
              "      <td>0</td>\n",
              "    </tr>\n",
              "    <tr>\n",
              "      <th>35091</th>\n",
              "      <td>35091</td>\n",
              "      <td>0</td>\n",
              "      <td>1</td>\n",
              "      <td>1</td>\n",
              "      <td>0</td>\n",
              "      <td>0</td>\n",
              "      <td>1</td>\n",
              "      <td>1</td>\n",
              "      <td>1</td>\n",
              "      <td>0</td>\n",
              "      <td>0</td>\n",
              "      <td>1</td>\n",
              "      <td>1</td>\n",
              "      <td>0</td>\n",
              "      <td>0</td>\n",
              "      <td>0</td>\n",
              "      <td>0</td>\n",
              "      <td>1</td>\n",
              "      <td>1</td>\n",
              "      <td>1</td>\n",
              "      <td>1</td>\n",
              "      <td>0</td>\n",
              "      <td>0</td>\n",
              "      <td>0</td>\n",
              "      <td>1</td>\n",
              "      <td>0</td>\n",
              "      <td>1</td>\n",
              "    </tr>\n",
              "    <tr>\n",
              "      <th>9730</th>\n",
              "      <td>9730</td>\n",
              "      <td>0</td>\n",
              "      <td>0</td>\n",
              "      <td>0</td>\n",
              "      <td>0</td>\n",
              "      <td>0</td>\n",
              "      <td>0</td>\n",
              "      <td>1</td>\n",
              "      <td>1</td>\n",
              "      <td>0</td>\n",
              "      <td>0</td>\n",
              "      <td>0</td>\n",
              "      <td>0</td>\n",
              "      <td>0</td>\n",
              "      <td>1</td>\n",
              "      <td>0</td>\n",
              "      <td>1</td>\n",
              "      <td>0</td>\n",
              "      <td>1</td>\n",
              "      <td>1</td>\n",
              "      <td>1</td>\n",
              "      <td>0</td>\n",
              "      <td>0</td>\n",
              "      <td>1</td>\n",
              "      <td>1</td>\n",
              "      <td>1</td>\n",
              "      <td>1</td>\n",
              "    </tr>\n",
              "    <tr>\n",
              "      <th>28408</th>\n",
              "      <td>28408</td>\n",
              "      <td>0</td>\n",
              "      <td>1</td>\n",
              "      <td>1</td>\n",
              "      <td>0</td>\n",
              "      <td>0</td>\n",
              "      <td>0</td>\n",
              "      <td>1</td>\n",
              "      <td>1</td>\n",
              "      <td>0</td>\n",
              "      <td>1</td>\n",
              "      <td>1</td>\n",
              "      <td>1</td>\n",
              "      <td>0</td>\n",
              "      <td>1</td>\n",
              "      <td>1</td>\n",
              "      <td>0</td>\n",
              "      <td>0</td>\n",
              "      <td>1</td>\n",
              "      <td>0</td>\n",
              "      <td>1</td>\n",
              "      <td>1</td>\n",
              "      <td>0</td>\n",
              "      <td>0</td>\n",
              "      <td>0</td>\n",
              "      <td>0</td>\n",
              "      <td>1</td>\n",
              "    </tr>\n",
              "    <tr>\n",
              "      <th>43447</th>\n",
              "      <td>43447</td>\n",
              "      <td>0</td>\n",
              "      <td>0</td>\n",
              "      <td>1</td>\n",
              "      <td>1</td>\n",
              "      <td>1</td>\n",
              "      <td>1</td>\n",
              "      <td>0</td>\n",
              "      <td>1</td>\n",
              "      <td>1</td>\n",
              "      <td>1</td>\n",
              "      <td>0</td>\n",
              "      <td>0</td>\n",
              "      <td>0</td>\n",
              "      <td>0</td>\n",
              "      <td>0</td>\n",
              "      <td>1</td>\n",
              "      <td>0</td>\n",
              "      <td>0</td>\n",
              "      <td>1</td>\n",
              "      <td>0</td>\n",
              "      <td>0</td>\n",
              "      <td>0</td>\n",
              "      <td>1</td>\n",
              "      <td>0</td>\n",
              "      <td>0</td>\n",
              "      <td>1</td>\n",
              "    </tr>\n",
              "  </tbody>\n",
              "</table>\n",
              "</div>"
            ],
            "text/plain": [
              "       index  a  b  c  d  e  f  g  h  i  j  ...  p  q  r  s  t  u  v  w  x  y  z\n",
              "31245  31245  0  1  1  1  0  0  0  0  0  1  ...  0  0  1  0  1  1  0  1  1  1  0\n",
              "35091  35091  0  1  1  0  0  1  1  1  0  0  ...  0  1  1  1  1  0  0  0  1  0  1\n",
              "9730    9730  0  0  0  0  0  0  1  1  0  0  ...  1  0  1  1  1  0  0  1  1  1  1\n",
              "28408  28408  0  1  1  0  0  0  1  1  0  1  ...  0  0  1  0  1  1  0  0  0  0  1\n",
              "43447  43447  0  0  1  1  1  1  0  1  1  1  ...  1  0  0  1  0  0  0  1  0  0  1\n",
              "\n",
              "[5 rows x 27 columns]"
            ]
          },
          "metadata": {
            "tags": []
          },
          "execution_count": 10
        }
      ]
    },
    {
      "cell_type": "code",
      "metadata": {
        "id": "Ey9F8WlxZZWH"
      },
      "source": [
        "PATH_TRAIN_CSV='/content/drive/MyDrive/dacon_computer_vision/data/mnist_train.csv'\n",
        "PATH_VALID_CSV='/content/drive/MyDrive/dacon_computer_vision/data/mnist_valid.csv'\n"
      ],
      "execution_count": 11,
      "outputs": []
    },
    {
      "cell_type": "code",
      "metadata": {
        "id": "e5OyK-S-ZZYx"
      },
      "source": [
        "train.to_csv(PATH_TRAIN_CSV, index=False)"
      ],
      "execution_count": 12,
      "outputs": []
    },
    {
      "cell_type": "code",
      "metadata": {
        "id": "96v7zNAdZZbZ"
      },
      "source": [
        "valid.to_csv(PATH_VALID_CSV, index=False)"
      ],
      "execution_count": 13,
      "outputs": []
    },
    {
      "cell_type": "code",
      "metadata": {
        "id": "GyGEz624ZZeB"
      },
      "source": [
        "class MnistDataset(Dataset):\n",
        "    def __init__(\n",
        "        self,\n",
        "        dir: os.PathLike,\n",
        "        image_ids: os.PathLike,\n",
        "        transforms: Sequence[Callable]\n",
        "    ) -> None:\n",
        "        self.dir = dir\n",
        "        self.transforms = transforms\n",
        "\n",
        "        self.labels = {}\n",
        "        with open(image_ids, 'r') as f:\n",
        "            reader = csv.reader(f)\n",
        "            next(reader)\n",
        "            for row in reader:\n",
        "                self.labels[int(row[0])] = list(map(int, row[1:]))\n",
        "\n",
        "        self.image_ids = list(self.labels.keys())\n",
        "\n",
        "    def __len__(self) -> int:\n",
        "        return len(self.image_ids)\n",
        "\n",
        "    def __getitem__(self, index: int) -> Tuple[Tensor]:\n",
        "        image_id = self.image_ids[index]\n",
        "        image = cv2.imread(\n",
        "            os.path.join(\n",
        "                self.dir, f'{str(image_id).zfill(5)}.png'))\n",
        "        image = cv2.cvtColor(image, cv2.COLOR_BGR2RGB)\n",
        "        target = np.array(self.labels.get(image_id)).astype(np.float32)\n",
        "\n",
        "        if self.transforms is not None:\n",
        "            augmented = self.transforms(image=image) \n",
        "            image = augmented['image']\n",
        "\n",
        "        return image, target"
      ],
      "execution_count": 14,
      "outputs": []
    },
    {
      "cell_type": "code",
      "metadata": {
        "id": "oRKrMgJiZZgY"
      },
      "source": [
        "from albumentations.pytorch import ToTensor"
      ],
      "execution_count": 15,
      "outputs": []
    },
    {
      "cell_type": "code",
      "metadata": {
        "id": "Ubkixh8-ZZjK"
      },
      "source": [
        "transforms_train = albumentations.Compose([\n",
        "    albumentations.OneOf([\n",
        "                          albumentations.HorizontalFlip(p=1),\n",
        "                          albumentations.VerticalFlip(p=1),\n",
        "                          albumentations.RandomRotate90(p=0.5)\n",
        "    ], p=0.8),\n",
        "    albumentations.OneOf([\n",
        "                          albumentations.RandomBrightness(limit=0.1, p=1),\n",
        "                          albumentations.RandomContrast(limit=0.1, p=1),\n",
        "    ], p=0.7),\n",
        "    albumentations.OneOf([\n",
        "                          albumentations.Blur(p=1),\n",
        "                          albumentations.OpticalDistortion(p=1),\n",
        "                          albumentations.GaussNoise(p=1)                 \n",
        "    ], p=0.3),\n",
        "    ToTensor((\n",
        "        [0.485, 0.456, 0.406],\n",
        "        [0.229, 0.224, 0.225]\n",
        "    )),\n",
        "])\n",
        "\n",
        "transforms_valid = albumentations.Compose([\n",
        "    albumentations.HorizontalFlip(p=0.5),\n",
        "    albumentations.VerticalFlip(p=0.5),\n",
        "    ToTensor((\n",
        "        [0.485, 0.456, 0.406],\n",
        "        [0.229, 0.224, 0.225]\n",
        "    )),\n",
        "])\n",
        "\n",
        "transforms_test = albumentations.Compose([\n",
        "    ToTensor((\n",
        "        [0.485, 0.456, 0.406],\n",
        "        [0.229, 0.224, 0.225]\n",
        "    )),\n",
        "])"
      ],
      "execution_count": 16,
      "outputs": []
    },
    {
      "cell_type": "code",
      "metadata": {
        "id": "bTDzGj6_ZZl6"
      },
      "source": [
        "trainset = MnistDataset(PATH_TRAIN_DATASET, PATH_TRAIN_CSV, transforms_train)\n",
        "valset = MnistDataset(PATH_TRAIN_DATASET, PATH_VALID_CSV, transforms_valid)\n",
        "testset = MnistDataset(PATH_TEST_DATASET, '/content/drive/MyDrive/dacon_computer_vision/data/sample_submission.csv', transforms_test)\n",
        "\n",
        "train_loader = DataLoader(trainset, batch_size=128)\n",
        "val_loader = DataLoader(valset, batch_size=32)\n",
        "test_loader = DataLoader(testset, batch_size=32)"
      ],
      "execution_count": 17,
      "outputs": []
    },
    {
      "cell_type": "code",
      "metadata": {
        "id": "WuiKPQsspGfr"
      },
      "source": [
        ""
      ],
      "execution_count": 17,
      "outputs": []
    },
    {
      "cell_type": "code",
      "metadata": {
        "id": "UEaEVPRjZZrh"
      },
      "source": [
        "# !pip install nfnets-pytorch"
      ],
      "execution_count": 18,
      "outputs": []
    },
    {
      "cell_type": "code",
      "metadata": {
        "id": "tqTgxfo5Z_GN"
      },
      "source": [
        "from torchvision.models import resnet50\n",
        "\n",
        "# from nfnets import replace_conv"
      ],
      "execution_count": 19,
      "outputs": []
    },
    {
      "cell_type": "code",
      "metadata": {
        "colab": {
          "base_uri": "https://localhost:8080/",
          "height": 797,
          "referenced_widgets": [
            "fa322d76974e4a0f9a6fe052fc9a6b07",
            "fbf639e15dd04648b067605ee9e80e02",
            "eecb0b9f79b94e97aa349d08bcf0b788",
            "0a73dda7c9944b52b5ecb7fe8e4e0856",
            "1ce74a3058434cbead47de3af5099b81",
            "0f5ebcdee5d94c03a038a2b11c67d716",
            "b898a5e29ae54c9eb907e267bc2bfcce",
            "e4c7495fa2da4098bf9c2286dabbcc9f"
          ]
        },
        "id": "o8L1qVHcZZoq",
        "outputId": "b4dd94d9-81fd-4c81-90cc-a1ea8805cc90"
      },
      "source": [
        "class MnistModel(nn.Module):\n",
        "    def __init__(self) -> None:\n",
        "        super().__init__()\n",
        "        self.resnet = resnet50(pretrained=True)\n",
        "        self.classifier = nn.Linear(1000, 26)\n",
        "\n",
        "    def forward(self, x):\n",
        "        x = self.resnet(x)\n",
        "        x = self.classifier(x)\n",
        "\n",
        "        return x\n",
        "\n",
        "device = torch.device('cuda' if torch.cuda.is_available() else 'cpu')\n",
        "model = MnistModel()\n",
        "# replace_conv(model)\n",
        "\n",
        "model = model.to(device)\n",
        "print(summary(model, input_size=(1, 3, 256, 256), verbose=0))"
      ],
      "execution_count": 20,
      "outputs": [
        {
          "output_type": "stream",
          "text": [
            "Downloading: \"https://download.pytorch.org/models/resnet50-19c8e357.pth\" to /root/.cache/torch/hub/checkpoints/resnet50-19c8e357.pth\n"
          ],
          "name": "stderr"
        },
        {
          "output_type": "display_data",
          "data": {
            "application/vnd.jupyter.widget-view+json": {
              "model_id": "fa322d76974e4a0f9a6fe052fc9a6b07",
              "version_minor": 0,
              "version_major": 2
            },
            "text/plain": [
              "HBox(children=(FloatProgress(value=0.0, max=102502400.0), HTML(value='')))"
            ]
          },
          "metadata": {
            "tags": []
          }
        },
        {
          "output_type": "stream",
          "text": [
            "\n",
            "==========================================================================================\n",
            "Layer (type:depth-idx)                   Output Shape              Param #\n",
            "==========================================================================================\n",
            "├─ResNet: 1-1                            [1, 1000]                 --\n",
            "|    └─Conv2d: 2-1                       [1, 64, 128, 128]         9,408\n",
            "|    └─BatchNorm2d: 2-2                  [1, 64, 128, 128]         128\n",
            "|    └─ReLU: 2-3                         [1, 64, 128, 128]         --\n",
            "|    └─MaxPool2d: 2-4                    [1, 64, 64, 64]           --\n",
            "|    └─Sequential: 2-5                   [1, 256, 64, 64]          --\n",
            "|    |    └─Bottleneck: 3-1              [1, 256, 64, 64]          75,008\n",
            "|    |    └─Bottleneck: 3-2              [1, 256, 64, 64]          70,400\n",
            "|    |    └─Bottleneck: 3-3              [1, 256, 64, 64]          70,400\n",
            "|    └─Sequential: 2-6                   [1, 512, 32, 32]          --\n",
            "|    |    └─Bottleneck: 3-4              [1, 512, 32, 32]          379,392\n",
            "|    |    └─Bottleneck: 3-5              [1, 512, 32, 32]          280,064\n",
            "|    |    └─Bottleneck: 3-6              [1, 512, 32, 32]          280,064\n",
            "|    |    └─Bottleneck: 3-7              [1, 512, 32, 32]          280,064\n",
            "|    └─Sequential: 2-7                   [1, 1024, 16, 16]         --\n",
            "|    |    └─Bottleneck: 3-8              [1, 1024, 16, 16]         1,512,448\n",
            "|    |    └─Bottleneck: 3-9              [1, 1024, 16, 16]         1,117,184\n",
            "|    |    └─Bottleneck: 3-10             [1, 1024, 16, 16]         1,117,184\n",
            "|    |    └─Bottleneck: 3-11             [1, 1024, 16, 16]         1,117,184\n",
            "|    |    └─Bottleneck: 3-12             [1, 1024, 16, 16]         1,117,184\n",
            "|    |    └─Bottleneck: 3-13             [1, 1024, 16, 16]         1,117,184\n",
            "|    └─Sequential: 2-8                   [1, 2048, 8, 8]           --\n",
            "|    |    └─Bottleneck: 3-14             [1, 2048, 8, 8]           6,039,552\n",
            "|    |    └─Bottleneck: 3-15             [1, 2048, 8, 8]           4,462,592\n",
            "|    |    └─Bottleneck: 3-16             [1, 2048, 8, 8]           4,462,592\n",
            "|    └─AdaptiveAvgPool2d: 2-9            [1, 2048, 1, 1]           --\n",
            "|    └─Linear: 2-10                      [1, 1000]                 2,049,000\n",
            "├─Linear: 1-2                            [1, 26]                   26,026\n",
            "==========================================================================================\n",
            "Total params: 25,583,058\n",
            "Trainable params: 25,583,058\n",
            "Non-trainable params: 0\n",
            "Total mult-adds (G): 4.95\n",
            "==========================================================================================\n",
            "Input size (MB): 0.79\n",
            "Forward/backward pass size (MB): 200.81\n",
            "Params size (MB): 102.33\n",
            "Estimated Total Size (MB): 303.93\n",
            "==========================================================================================\n"
          ],
          "name": "stdout"
        }
      ]
    },
    {
      "cell_type": "code",
      "metadata": {
        "colab": {
          "base_uri": "https://localhost:8080/"
        },
        "id": "9YN9x6oaZZxT",
        "outputId": "da5b1428-bab1-408a-c1a8-cc3d0cd253cd"
      },
      "source": [
        "optimizer = optim.AdamW(model.parameters(), lr=1e-3)\n",
        "criterion = nn.MultiLabelSoftMarginLoss()\n",
        "scheduler = optim.lr_scheduler.ReduceLROnPlateau(optimizer=optimizer,\n",
        "                                                  mode='min',\n",
        "                                                  factor=0.5,\n",
        "                                                  patience=2,)\n",
        "\n",
        "\n",
        "\n",
        "for epoch in range(EPOCHS):\n",
        "    \n",
        "\n",
        "    for i, (images, targets) in enumerate(train_loader):\n",
        "\n",
        "        optimizer.zero_grad()\n",
        "\n",
        "        images = images.to(device)\n",
        "        targets = targets.to(device)\n",
        "\n",
        "        model.train()\n",
        "\n",
        "        with torch.set_grad_enabled(True):\n",
        "            outputs = model(images)\n",
        "            loss = criterion(outputs, targets)\n",
        "\n",
        "            loss.backward()\n",
        "            optimizer.step()\n",
        "\n",
        "        if i % 10 == 0:\n",
        "            outputs = outputs > 0.5\n",
        "            acc = (outputs == targets).float().mean()\n",
        "            print(f'{epoch+1}: {loss.item():.5f}, {acc.item():.5f}')\n",
        "\n",
        "\n",
        "    valid_acc_list = []\n",
        "    with tqdm(val_loader,\n",
        "            total=val_loader.__len__(),\n",
        "            unit=\"batch\") as valid_bar:\n",
        "        for i, (images, targets) in enumerate(valid_bar):\n",
        "            valid_bar.set_description(f\"Valid Epoch {epoch + 1}\")\n",
        "            optimizer.zero_grad()\n",
        "\n",
        "            images = images.to(device)\n",
        "            targets = targets.to(device)\n",
        "\n",
        "            # 모델의 dropoupt, batchnormalization를 eval모드로 설정\n",
        "            # .forward()에서 중간 노드의 gradient를 계산\n",
        "\n",
        "            model.eval()\n",
        "\n",
        "            with torch.no_grad():\n",
        "                # validation loss만을 계산\n",
        "                probs  = model(images)\n",
        "                valid_loss = criterion(probs, targets)\n",
        "\n",
        "\n",
        "                # train accuracy 계산\n",
        "                probs  = probs.cpu().detach().numpy()\n",
        "                targets = targets.cpu().detach().numpy()\n",
        "                preds = probs > 0.5\n",
        "                batch_acc = (targets == preds).mean()\n",
        "                valid_acc_list.append(batch_acc)\n",
        "\n",
        "            valid_acc = np.mean(valid_acc_list)\n",
        "            valid_bar.set_postfix(valid_loss = valid_loss.item(),\n",
        "                                  valid_acc = valid_acc)\n",
        "\n",
        "    scheduler.step(valid_loss)\n",
        "\n",
        "\n",
        "    if (epoch + 1) % 5 == 0:\n",
        "        torch.save({\n",
        "                'epoch': epoch+1,\n",
        "                'model_state_dict': model.state_dict(),\n",
        "                'optimizer_state_dict': optimizer.state_dict(),\n",
        "                'loss': loss,\n",
        "                }, f'/content/drive/MyDrive/dacon_computer_vision/checkpoint/model_resnet_0218_{epoch + 1}.pt')\n",
        "    \n",
        "    print('------------------')"
      ],
      "execution_count": null,
      "outputs": [
        {
          "output_type": "stream",
          "text": [
            "1: 0.79138, 0.51713\n",
            "1: 0.70026, 0.54657\n",
            "1: 0.69251, 0.54026\n",
            "1: 0.69292, 0.53335\n",
            "1: 0.69730, 0.53966\n",
            "1: 0.69568, 0.54357\n",
            "1: 0.69692, 0.53035\n",
            "1: 0.69315, 0.53726\n",
            "1: 0.69182, 0.53726\n",
            "1: 0.69051, 0.53906\n",
            "1: 0.69290, 0.54026\n",
            "1: 0.69402, 0.53876\n",
            "1: 0.69156, 0.54177\n",
            "1: 0.69313, 0.53666\n",
            "1: 0.69286, 0.53005\n",
            "1: 0.69230, 0.52945\n",
            "1: 0.69281, 0.53636\n",
            "1: 0.69138, 0.53516\n",
            "1: 0.69079, 0.53966\n",
            "1: 0.69104, 0.53756\n",
            "1: 0.69037, 0.53996\n",
            "1: 0.69135, 0.53786\n",
            "1: 0.69038, 0.53936\n",
            "1: 0.69078, 0.54627\n",
            "1: 0.69088, 0.53546\n",
            "1: 0.69225, 0.53666\n",
            "1: 0.69000, 0.54117\n",
            "1: 0.68891, 0.54688\n",
            "1: 0.69094, 0.54087\n",
            "1: 0.69111, 0.53666\n",
            "1: 0.68994, 0.54177\n",
            "1: 0.68793, 0.54928\n",
            "1: 0.69009, 0.53726\n",
            "1: 0.69124, 0.53245\n",
            "1: 0.69101, 0.53606\n",
            "1: 0.68916, 0.53966\n",
            "1: 0.68798, 0.53846\n",
            "1: 0.68847, 0.54026\n"
          ],
          "name": "stdout"
        },
        {
          "output_type": "stream",
          "text": [
            "Valid Epoch 1: 100%|██████████| 79/79 [09:25<00:00,  7.16s/batch, valid_acc=0.538, valid_loss=0.683]\n"
          ],
          "name": "stderr"
        },
        {
          "output_type": "stream",
          "text": [
            "------------------\n",
            "2: 0.68926, 0.53966\n",
            "2: 0.68829, 0.54868\n",
            "2: 0.68776, 0.54026\n",
            "2: 0.68862, 0.53275\n",
            "2: 0.68631, 0.54207\n",
            "2: 0.68779, 0.54417\n",
            "2: 0.68913, 0.52855\n",
            "2: 0.68763, 0.53906\n",
            "2: 0.68826, 0.53786\n",
            "2: 0.68808, 0.53936\n",
            "2: 0.68740, 0.54026\n",
            "2: 0.68686, 0.53996\n",
            "2: 0.68693, 0.54117\n",
            "2: 0.68734, 0.53726\n",
            "2: 0.69034, 0.53125\n",
            "2: 0.68842, 0.53005\n",
            "2: 0.68725, 0.53816\n",
            "2: 0.68842, 0.53576\n",
            "2: 0.68601, 0.54026\n",
            "2: 0.68728, 0.53726\n",
            "2: 0.68660, 0.53996\n",
            "2: 0.68671, 0.53846\n",
            "2: 0.68578, 0.53966\n",
            "2: 0.68619, 0.54627\n",
            "2: 0.68792, 0.53425\n",
            "2: 0.68781, 0.53666\n",
            "2: 0.68553, 0.54477\n",
            "2: 0.68534, 0.54688\n",
            "2: 0.68851, 0.54117\n",
            "2: 0.68782, 0.53666\n",
            "2: 0.68544, 0.54477\n",
            "2: 0.68274, 0.55349\n",
            "2: 0.68522, 0.53996\n",
            "2: 0.68672, 0.53546\n",
            "2: 0.68864, 0.53726\n",
            "2: 0.68140, 0.54597\n",
            "2: 0.68395, 0.54447\n"
          ],
          "name": "stdout"
        },
        {
          "output_type": "stream",
          "text": [
            "\r  0%|          | 0/79 [00:00<?, ?batch/s]"
          ],
          "name": "stderr"
        },
        {
          "output_type": "stream",
          "text": [
            "2: 0.68586, 0.54297\n"
          ],
          "name": "stdout"
        },
        {
          "output_type": "stream",
          "text": [
            "Valid Epoch 2: 100%|██████████| 79/79 [00:16<00:00,  4.78batch/s, valid_acc=0.538, valid_loss=0.712]\n"
          ],
          "name": "stderr"
        },
        {
          "output_type": "stream",
          "text": [
            "------------------\n",
            "3: 0.68761, 0.54327\n",
            "3: 0.68710, 0.55018\n",
            "3: 0.68917, 0.54237\n",
            "3: 0.68451, 0.53666\n",
            "3: 0.68091, 0.54868\n",
            "3: 0.68240, 0.55108\n",
            "3: 0.68567, 0.53456\n",
            "3: 0.68315, 0.54327\n",
            "3: 0.68509, 0.54026\n",
            "3: 0.68426, 0.54898\n",
            "3: 0.67878, 0.54838\n",
            "3: 0.68092, 0.54537\n",
            "3: 0.67573, 0.55108\n",
            "3: 0.68082, 0.54417\n",
            "3: 0.68051, 0.53546\n",
            "3: 0.67820, 0.53696\n",
            "3: 0.67425, 0.54778\n",
            "3: 0.68091, 0.54177\n",
            "3: 0.67576, 0.55799\n",
            "3: 0.67635, 0.54808\n",
            "3: 0.67135, 0.55198\n",
            "3: 0.67614, 0.54808\n",
            "3: 0.67692, 0.55499\n",
            "3: 0.67560, 0.55439\n",
            "3: 0.66973, 0.55739\n",
            "3: 0.68013, 0.54718\n",
            "3: 0.67425, 0.55829\n",
            "3: 0.67564, 0.56250\n",
            "3: 0.67200, 0.55439\n",
            "3: 0.67516, 0.55138\n",
            "3: 0.67498, 0.55589\n",
            "3: 0.66991, 0.56430\n",
            "3: 0.66998, 0.55409\n",
            "3: 0.67357, 0.54898\n",
            "3: 0.67680, 0.55198\n",
            "3: 0.66540, 0.56220\n",
            "3: 0.67030, 0.56010\n"
          ],
          "name": "stdout"
        },
        {
          "output_type": "stream",
          "text": [
            "\r  0%|          | 0/79 [00:00<?, ?batch/s]"
          ],
          "name": "stderr"
        },
        {
          "output_type": "stream",
          "text": [
            "3: 0.66827, 0.55379\n"
          ],
          "name": "stdout"
        },
        {
          "output_type": "stream",
          "text": [
            "Valid Epoch 3: 100%|██████████| 79/79 [00:16<00:00,  4.88batch/s, valid_acc=0.552, valid_loss=0.695]\n"
          ],
          "name": "stderr"
        },
        {
          "output_type": "stream",
          "text": [
            "------------------\n",
            "4: 0.67483, 0.55439\n",
            "4: 0.66679, 0.56611\n",
            "4: 0.67578, 0.55769\n",
            "4: 0.68488, 0.54778\n",
            "4: 0.66907, 0.55950\n",
            "4: 0.67251, 0.56340\n",
            "4: 0.67272, 0.54507\n",
            "4: 0.67044, 0.55649\n",
            "4: 0.67390, 0.56070\n",
            "4: 0.66577, 0.56520\n",
            "4: 0.66754, 0.56010\n",
            "4: 0.66842, 0.55919\n",
            "4: 0.66977, 0.56130\n",
            "4: 0.67357, 0.55619\n",
            "4: 0.66837, 0.55198\n",
            "4: 0.67055, 0.54627\n",
            "4: 0.66043, 0.56340\n",
            "4: 0.66684, 0.55980\n",
            "4: 0.66066, 0.56400\n",
            "4: 0.66003, 0.56611\n",
            "4: 0.66167, 0.57482\n",
            "4: 0.66142, 0.56100\n",
            "4: 0.66138, 0.57242\n",
            "4: 0.66299, 0.57752\n",
            "4: 0.65815, 0.57061\n",
            "4: 0.66930, 0.55980\n",
            "4: 0.66292, 0.57843\n",
            "4: 0.66249, 0.57662\n",
            "4: 0.65721, 0.57662\n",
            "4: 0.66500, 0.56460\n",
            "4: 0.65682, 0.57782\n",
            "4: 0.65859, 0.57692\n",
            "4: 0.66266, 0.57242\n",
            "4: 0.65531, 0.57181\n",
            "4: 0.66565, 0.56791\n",
            "4: 0.64594, 0.58474\n",
            "4: 0.65828, 0.57482\n"
          ],
          "name": "stdout"
        },
        {
          "output_type": "stream",
          "text": [
            "\r  0%|          | 0/79 [00:00<?, ?batch/s]"
          ],
          "name": "stderr"
        },
        {
          "output_type": "stream",
          "text": [
            "4: 0.65359, 0.57722\n"
          ],
          "name": "stdout"
        },
        {
          "output_type": "stream",
          "text": [
            "Valid Epoch 4: 100%|██████████| 79/79 [00:16<00:00,  4.91batch/s, valid_acc=0.568, valid_loss=0.643]\n"
          ],
          "name": "stderr"
        },
        {
          "output_type": "stream",
          "text": [
            "------------------\n",
            "5: 0.65893, 0.57512\n",
            "5: 0.65920, 0.58383\n",
            "5: 0.66637, 0.57091\n",
            "5: 0.65411, 0.56911\n",
            "5: 0.65079, 0.58564\n",
            "5: 0.65405, 0.58714\n",
            "5: 0.64878, 0.56971\n",
            "5: 0.65105, 0.57692\n",
            "5: 0.65405, 0.58263\n",
            "5: 0.64197, 0.60006\n",
            "5: 0.64956, 0.58774\n",
            "5: 0.64891, 0.58293\n",
            "5: 0.64950, 0.58744\n",
            "5: 0.65522, 0.58263\n",
            "5: 0.64820, 0.58293\n",
            "5: 0.65535, 0.57422\n",
            "5: 0.63775, 0.58924\n",
            "5: 0.63903, 0.59195\n",
            "5: 0.63807, 0.59525\n",
            "5: 0.63943, 0.59585\n",
            "5: 0.64821, 0.59736\n",
            "5: 0.64581, 0.58804\n",
            "5: 0.64089, 0.60998\n",
            "5: 0.64530, 0.59495\n",
            "5: 0.63515, 0.59856\n",
            "5: 0.64493, 0.59345\n",
            "5: 0.64139, 0.60156\n",
            "5: 0.64114, 0.61088\n",
            "5: 0.63700, 0.60637\n",
            "5: 0.63805, 0.60787\n",
            "5: 0.62916, 0.60817\n",
            "5: 0.63310, 0.60246\n",
            "5: 0.63071, 0.59886\n",
            "5: 0.63429, 0.60156\n",
            "5: 0.64669, 0.59706\n",
            "5: 0.62700, 0.61298\n",
            "5: 0.62768, 0.60907\n"
          ],
          "name": "stdout"
        },
        {
          "output_type": "stream",
          "text": [
            "\r  0%|          | 0/79 [00:00<?, ?batch/s]"
          ],
          "name": "stderr"
        },
        {
          "output_type": "stream",
          "text": [
            "5: 0.62671, 0.61208\n"
          ],
          "name": "stdout"
        },
        {
          "output_type": "stream",
          "text": [
            "Valid Epoch 5: 100%|██████████| 79/79 [00:16<00:00,  4.76batch/s, valid_acc=0.599, valid_loss=0.641]\n"
          ],
          "name": "stderr"
        },
        {
          "output_type": "stream",
          "text": [
            "------------------\n",
            "6: 0.62643, 0.61569\n",
            "6: 0.63061, 0.61208\n",
            "6: 0.64006, 0.60637\n",
            "6: 0.62322, 0.61538\n",
            "6: 0.62254, 0.61719\n",
            "6: 0.62487, 0.62320\n",
            "6: 0.62247, 0.60787\n",
            "6: 0.62300, 0.62169\n",
            "6: 0.62312, 0.61989\n",
            "6: 0.62231, 0.62049\n",
            "6: 0.61641, 0.62320\n",
            "6: 0.63217, 0.61899\n",
            "6: 0.62435, 0.62079\n",
            "6: 0.62614, 0.61508\n",
            "6: 0.61984, 0.61328\n",
            "6: 0.62563, 0.60186\n",
            "6: 0.60710, 0.62891\n",
            "6: 0.61166, 0.62200\n",
            "6: 0.61608, 0.62230\n",
            "6: 0.61326, 0.63011\n",
            "6: 0.62323, 0.62620\n",
            "6: 0.62592, 0.61599\n",
            "6: 0.60616, 0.63191\n",
            "6: 0.60819, 0.63191\n",
            "6: 0.60957, 0.62500\n",
            "6: 0.61247, 0.63492\n",
            "6: 0.61276, 0.63161\n",
            "6: 0.60858, 0.64573\n",
            "6: 0.60876, 0.63371\n",
            "6: 0.61041, 0.63582\n",
            "6: 0.60235, 0.64243\n",
            "6: 0.60283, 0.63401\n",
            "6: 0.60984, 0.62710\n",
            "6: 0.60813, 0.62260\n",
            "6: 0.61304, 0.62560\n",
            "6: 0.59269, 0.65294\n",
            "6: 0.60753, 0.64153\n"
          ],
          "name": "stdout"
        },
        {
          "output_type": "stream",
          "text": [
            "\r  0%|          | 0/79 [00:00<?, ?batch/s]"
          ],
          "name": "stderr"
        },
        {
          "output_type": "stream",
          "text": [
            "6: 0.59951, 0.63822\n"
          ],
          "name": "stdout"
        },
        {
          "output_type": "stream",
          "text": [
            "Valid Epoch 6: 100%|██████████| 79/79 [00:16<00:00,  4.92batch/s, valid_acc=0.632, valid_loss=0.606]\n"
          ],
          "name": "stderr"
        },
        {
          "output_type": "stream",
          "text": [
            "------------------\n",
            "7: 0.60331, 0.63822\n",
            "7: 0.60898, 0.63702\n",
            "7: 0.61534, 0.63612\n",
            "7: 0.60200, 0.63552\n",
            "7: 0.59622, 0.64844\n",
            "7: 0.59507, 0.64814\n",
            "7: 0.59359, 0.63552\n",
            "7: 0.60179, 0.64153\n",
            "7: 0.60076, 0.63492\n",
            "7: 0.59782, 0.64874\n",
            "7: 0.59732, 0.65174\n",
            "7: 0.60392, 0.64513\n",
            "7: 0.60610, 0.64543\n",
            "7: 0.60594, 0.63972\n",
            "7: 0.60264, 0.64002\n",
            "7: 0.60232, 0.62981\n",
            "7: 0.59398, 0.64754\n",
            "7: 0.58332, 0.64724\n",
            "7: 0.58722, 0.64784\n",
            "7: 0.58127, 0.66046\n",
            "7: 0.60416, 0.64573\n",
            "7: 0.59820, 0.64694\n",
            "7: 0.58480, 0.65895\n",
            "7: 0.58664, 0.65595\n",
            "7: 0.58032, 0.65595\n",
            "7: 0.59177, 0.65595\n",
            "7: 0.57475, 0.66977\n",
            "7: 0.58815, 0.66797\n",
            "7: 0.58705, 0.66226\n",
            "7: 0.58185, 0.65925\n",
            "7: 0.58462, 0.67338\n",
            "7: 0.57391, 0.67067\n",
            "7: 0.58225, 0.65054\n",
            "7: 0.58732, 0.64874\n",
            "7: 0.58426, 0.65835\n",
            "7: 0.56767, 0.67518\n",
            "7: 0.57975, 0.66857\n"
          ],
          "name": "stdout"
        },
        {
          "output_type": "stream",
          "text": [
            "\r  0%|          | 0/79 [00:00<?, ?batch/s]"
          ],
          "name": "stderr"
        },
        {
          "output_type": "stream",
          "text": [
            "7: 0.57020, 0.68089\n"
          ],
          "name": "stdout"
        },
        {
          "output_type": "stream",
          "text": [
            "Valid Epoch 7: 100%|██████████| 79/79 [00:15<00:00,  4.94batch/s, valid_acc=0.655, valid_loss=0.64]\n"
          ],
          "name": "stderr"
        },
        {
          "output_type": "stream",
          "text": [
            "------------------\n",
            "8: 0.57438, 0.67909\n",
            "8: 0.58480, 0.66587\n",
            "8: 0.58948, 0.65565\n",
            "8: 0.57944, 0.66737\n",
            "8: 0.57277, 0.66887\n",
            "8: 0.57287, 0.67668\n",
            "8: 0.57572, 0.66076\n",
            "8: 0.57861, 0.65895\n",
            "8: 0.56826, 0.67097\n",
            "8: 0.56093, 0.68329\n",
            "8: 0.56393, 0.68269\n",
            "8: 0.56923, 0.67698\n",
            "8: 0.56849, 0.67638\n",
            "8: 0.57238, 0.67188\n",
            "8: 0.57556, 0.67127\n",
            "8: 0.57634, 0.65986\n",
            "8: 0.56653, 0.67368\n",
            "8: 0.55540, 0.68239\n",
            "8: 0.56782, 0.67338\n",
            "8: 0.55478, 0.68239\n",
            "8: 0.57384, 0.68419\n",
            "8: 0.57506, 0.67368\n",
            "8: 0.56178, 0.67638\n",
            "8: 0.55955, 0.68329\n",
            "8: 0.55283, 0.68780\n",
            "8: 0.55524, 0.69231\n",
            "8: 0.54778, 0.69832\n",
            "8: 0.56457, 0.68990\n",
            "8: 0.55860, 0.69231\n",
            "8: 0.56806, 0.68119\n",
            "8: 0.54925, 0.70132\n",
            "8: 0.55070, 0.69471\n",
            "8: 0.54950, 0.69050\n",
            "8: 0.57340, 0.68209\n",
            "8: 0.55134, 0.68359\n",
            "8: 0.52490, 0.71274\n",
            "8: 0.55912, 0.68570\n"
          ],
          "name": "stdout"
        },
        {
          "output_type": "stream",
          "text": [
            "\r  0%|          | 0/79 [00:00<?, ?batch/s]"
          ],
          "name": "stderr"
        },
        {
          "output_type": "stream",
          "text": [
            "8: 0.53730, 0.70493\n"
          ],
          "name": "stdout"
        },
        {
          "output_type": "stream",
          "text": [
            "Valid Epoch 8: 100%|██████████| 79/79 [00:16<00:00,  4.86batch/s, valid_acc=0.687, valid_loss=0.62]\n"
          ],
          "name": "stderr"
        },
        {
          "output_type": "stream",
          "text": [
            "------------------\n",
            "9: 0.54547, 0.69922\n",
            "9: 0.55206, 0.70042\n",
            "9: 0.55808, 0.68840\n",
            "9: 0.56076, 0.68630\n",
            "9: 0.54212, 0.70012\n",
            "9: 0.54755, 0.70403\n",
            "9: 0.55244, 0.68960\n",
            "9: 0.54117, 0.69201\n",
            "9: 0.53431, 0.69621\n",
            "9: 0.53771, 0.70913\n",
            "9: 0.53497, 0.71214\n",
            "9: 0.53681, 0.71364\n",
            "9: 0.52811, 0.71034\n",
            "9: 0.53907, 0.70192\n",
            "9: 0.53974, 0.70944\n",
            "9: 0.53609, 0.69050\n",
            "9: 0.53424, 0.70673\n",
            "9: 0.52495, 0.71424\n",
            "9: 0.55413, 0.70012\n",
            "9: 0.50980, 0.71995\n",
            "9: 0.54920, 0.69802\n",
            "9: 0.54544, 0.69772\n",
            "9: 0.52888, 0.71034\n",
            "9: 0.52324, 0.71575\n",
            "9: 0.50978, 0.72716\n",
            "9: 0.51391, 0.72145\n",
            "9: 0.51550, 0.72446\n",
            "9: 0.51826, 0.72987\n",
            "9: 0.52662, 0.71454\n",
            "9: 0.52880, 0.71304\n",
            "9: 0.51487, 0.72806\n",
            "9: 0.52090, 0.72416\n",
            "9: 0.52528, 0.71184\n",
            "9: 0.52641, 0.71845\n",
            "9: 0.51325, 0.72776\n",
            "9: 0.50864, 0.74099\n",
            "9: 0.51952, 0.72626\n"
          ],
          "name": "stdout"
        },
        {
          "output_type": "stream",
          "text": [
            "\r  0%|          | 0/79 [00:00<?, ?batch/s]"
          ],
          "name": "stderr"
        },
        {
          "output_type": "stream",
          "text": [
            "9: 0.49930, 0.73137\n"
          ],
          "name": "stdout"
        },
        {
          "output_type": "stream",
          "text": [
            "Valid Epoch 9: 100%|██████████| 79/79 [00:16<00:00,  4.91batch/s, valid_acc=0.718, valid_loss=0.562]\n"
          ],
          "name": "stderr"
        },
        {
          "output_type": "stream",
          "text": [
            "------------------\n",
            "10: 0.51495, 0.73798\n",
            "10: 0.52793, 0.71845\n",
            "10: 0.53275, 0.71935\n",
            "10: 0.52029, 0.71995\n",
            "10: 0.50396, 0.73618\n",
            "10: 0.51668, 0.73317\n",
            "10: 0.51158, 0.73077\n",
            "10: 0.50123, 0.73558\n",
            "10: 0.50319, 0.73498\n",
            "10: 0.50573, 0.74309\n",
            "10: 0.50525, 0.73768\n",
            "10: 0.50402, 0.73918\n",
            "10: 0.50760, 0.73137\n",
            "10: 0.50596, 0.73588\n",
            "10: 0.50780, 0.73858\n",
            "10: 0.50583, 0.72476\n",
            "10: 0.49718, 0.74399\n",
            "10: 0.49855, 0.73798\n",
            "10: 0.51091, 0.73377\n",
            "10: 0.47446, 0.75090\n",
            "10: 0.50396, 0.74519\n",
            "10: 0.50285, 0.74249\n",
            "10: 0.48748, 0.75030\n",
            "10: 0.47603, 0.75721\n",
            "10: 0.47391, 0.75871\n",
            "10: 0.49587, 0.73708\n",
            "10: 0.48097, 0.76352\n",
            "10: 0.47926, 0.75511\n",
            "10: 0.49107, 0.75270\n",
            "10: 0.49061, 0.74760\n",
            "10: 0.49358, 0.75331\n",
            "10: 0.48341, 0.75841\n",
            "10: 0.48236, 0.75661\n",
            "10: 0.48594, 0.75120\n",
            "10: 0.48554, 0.75451\n",
            "10: 0.47228, 0.76743\n",
            "10: 0.47999, 0.75962\n"
          ],
          "name": "stdout"
        },
        {
          "output_type": "stream",
          "text": [
            "\r  0%|          | 0/79 [00:00<?, ?batch/s]"
          ],
          "name": "stderr"
        },
        {
          "output_type": "stream",
          "text": [
            "10: 0.46107, 0.77073\n"
          ],
          "name": "stdout"
        },
        {
          "output_type": "stream",
          "text": [
            "Valid Epoch 10: 100%|██████████| 79/79 [00:16<00:00,  4.91batch/s, valid_acc=0.749, valid_loss=0.541]\n"
          ],
          "name": "stderr"
        },
        {
          "output_type": "stream",
          "text": [
            "------------------\n",
            "11: 0.48755, 0.75661\n",
            "11: 0.49911, 0.75180\n",
            "11: 0.49562, 0.75090\n",
            "11: 0.47678, 0.75811\n",
            "11: 0.46350, 0.77043\n",
            "11: 0.47598, 0.76352\n",
            "11: 0.48265, 0.75451\n",
            "11: 0.47136, 0.76442\n",
            "11: 0.44741, 0.77554\n",
            "11: 0.47479, 0.75901\n",
            "11: 0.46590, 0.76803\n",
            "11: 0.48673, 0.75631\n",
            "11: 0.47482, 0.76322\n",
            "11: 0.46161, 0.76893\n",
            "11: 0.46357, 0.77224\n",
            "11: 0.47445, 0.74910\n",
            "11: 0.47322, 0.76112\n",
            "11: 0.45719, 0.76412\n",
            "11: 0.47517, 0.75841\n",
            "11: 0.44558, 0.77825\n",
            "11: 0.47577, 0.77284\n",
            "11: 0.47704, 0.76172\n",
            "11: 0.46199, 0.76863\n",
            "11: 0.44983, 0.78245\n",
            "11: 0.44872, 0.77764\n",
            "11: 0.45215, 0.77855\n",
            "11: 0.45016, 0.78365\n",
            "11: 0.45784, 0.77494\n",
            "11: 0.46519, 0.76683\n",
            "11: 0.46348, 0.76773\n",
            "11: 0.45618, 0.77614\n",
            "11: 0.44578, 0.78606\n",
            "11: 0.44637, 0.77734\n",
            "11: 0.45065, 0.78155\n",
            "11: 0.44647, 0.77794\n",
            "11: 0.43930, 0.78606\n",
            "11: 0.46321, 0.76713\n"
          ],
          "name": "stdout"
        },
        {
          "output_type": "stream",
          "text": [
            "\r  0%|          | 0/79 [00:00<?, ?batch/s]"
          ],
          "name": "stderr"
        },
        {
          "output_type": "stream",
          "text": [
            "11: 0.45041, 0.78395\n"
          ],
          "name": "stdout"
        },
        {
          "output_type": "stream",
          "text": [
            "Valid Epoch 11: 100%|██████████| 79/79 [00:16<00:00,  4.85batch/s, valid_acc=0.759, valid_loss=0.525]\n"
          ],
          "name": "stderr"
        },
        {
          "output_type": "stream",
          "text": [
            "------------------\n",
            "12: 0.44965, 0.78756\n",
            "12: 0.46574, 0.76743\n",
            "12: 0.46085, 0.77254\n",
            "12: 0.45911, 0.77103\n",
            "12: 0.44939, 0.78516\n",
            "12: 0.45842, 0.77524\n",
            "12: 0.46128, 0.76683\n",
            "12: 0.44676, 0.78185\n",
            "12: 0.43446, 0.78726\n",
            "12: 0.44427, 0.77584\n",
            "12: 0.44096, 0.78816\n",
            "12: 0.43830, 0.78456\n",
            "12: 0.45142, 0.77885\n",
            "12: 0.42606, 0.79988\n",
            "12: 0.43575, 0.78305\n",
            "12: 0.45721, 0.75931\n",
            "12: 0.43260, 0.78996\n"
          ],
          "name": "stdout"
        }
      ]
    },
    {
      "cell_type": "code",
      "metadata": {
        "id": "dUw4EwBHZZz_"
      },
      "source": [
        "!nvidia-smi"
      ],
      "execution_count": null,
      "outputs": []
    },
    {
      "cell_type": "code",
      "metadata": {
        "id": "tUx2FUDipmzy"
      },
      "source": [
        ""
      ],
      "execution_count": null,
      "outputs": []
    },
    {
      "cell_type": "code",
      "metadata": {
        "id": "4W9B9WRIZZ4-"
      },
      "source": [
        "torch.save(model, '/content/drive/MyDrive/dacon_computer_vision/resnet_model_0218.pt')"
      ],
      "execution_count": null,
      "outputs": []
    }
  ]
}